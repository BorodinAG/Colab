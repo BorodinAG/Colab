{
  "nbformat": 4,
  "nbformat_minor": 0,
  "metadata": {
    "colab": {
      "provenance": [],
      "include_colab_link": true
    },
    "kernelspec": {
      "name": "python3",
      "display_name": "Python 3"
    },
    "language_info": {
      "name": "python"
    }
  },
  "cells": [
    {
      "cell_type": "markdown",
      "metadata": {
        "id": "view-in-github",
        "colab_type": "text"
      },
      "source": [
        "<a href=\"https://colab.research.google.com/github/BorodinAG/Colab/blob/main/%D0%9D%D0%BE%D1%83%D1%82%D0%B1%D1%83%D0%BA_1_%7C_%D0%A0%D0%B0%D0%B1%D0%BE%D1%82%D0%B0_%D1%81_%D1%84%D0%B0%D0%B9%D0%BB%D0%BE%D0%B2%D0%BE%D0%B9_%D1%81%D0%B8%D1%81%D1%82%D0%B5%D0%BC%D0%BE%D0%B9_%7C_%D0%A3%D0%98%D0%98.ipynb\" target=\"_parent\"><img src=\"https://colab.research.google.com/assets/colab-badge.svg\" alt=\"Open In Colab\"/></a>"
      ]
    },
    {
      "cell_type": "code",
      "execution_count": null,
      "metadata": {
        "id": "bDg-Tp9qHUkW"
      },
      "outputs": [],
      "source": [
        "import os\n",
        "import shutil\n",
        "import glob\n",
        "from zipfile import ZipFile"
      ]
    },
    {
      "cell_type": "code",
      "source": [
        "from google.colab import drive\n",
        "drive.mount('/content/drive')"
      ],
      "metadata": {
        "colab": {
          "base_uri": "https://localhost:8080/"
        },
        "id": "g4oNngOYOVcq",
        "outputId": "92d88e46-434c-478e-e728-86ae10ae3235"
      },
      "execution_count": null,
      "outputs": [
        {
          "output_type": "stream",
          "name": "stdout",
          "text": [
            "Mounted at /content/drive\n"
          ]
        }
      ]
    },
    {
      "cell_type": "code",
      "source": [
        "# Отключаем google drive\n",
        "drive.flush_and_unmount()"
      ],
      "metadata": {
        "id": "dGqRThRe1kI1"
      },
      "execution_count": null,
      "outputs": []
    },
    {
      "cell_type": "markdown",
      "source": [
        "## **Работа с файловой системой**"
      ],
      "metadata": {
        "id": "v-SDh4sUdf06"
      }
    },
    {
      "cell_type": "markdown",
      "source": [
        "###***Смена рабочей директории***\n",
        "\n",
        "---\n",
        "\n"
      ],
      "metadata": {
        "id": "fvcV7fzH1MOE"
      }
    },
    {
      "cell_type": "code",
      "source": [
        "# показать текущий каталог (рабочую директорию)\n",
        "os.getcwd()"
      ],
      "metadata": {
        "colab": {
          "base_uri": "https://localhost:8080/",
          "height": 35
        },
        "id": "7RCo_4M407ys",
        "outputId": "c123e2ac-66e4-4d67-dfdb-4b163acbb1ef"
      },
      "execution_count": null,
      "outputs": [
        {
          "output_type": "execute_result",
          "data": {
            "text/plain": [
              "'/content'"
            ],
            "application/vnd.google.colaboratory.intrinsic+json": {
              "type": "string"
            }
          },
          "metadata": {},
          "execution_count": 5
        }
      ]
    },
    {
      "cell_type": "code",
      "source": [
        "os.listdir()"
      ],
      "metadata": {
        "id": "bzjQhlpmLg16",
        "colab": {
          "base_uri": "https://localhost:8080/"
        },
        "outputId": "efe753ba-1fac-47a2-81de-3013953cef0c"
      },
      "execution_count": null,
      "outputs": [
        {
          "output_type": "execute_result",
          "data": {
            "text/plain": [
              "['.config', 'sample_data']"
            ]
          },
          "metadata": {},
          "execution_count": 10
        }
      ]
    },
    {
      "cell_type": "code",
      "source": [
        "os.chdir('/content')"
      ],
      "metadata": {
        "id": "TM50N-xyANyV"
      },
      "execution_count": null,
      "outputs": []
    },
    {
      "cell_type": "code",
      "source": [
        "import sys\n",
        "\n",
        "sys.path[0]"
      ],
      "metadata": {
        "id": "U0SGHdTAIfH4",
        "outputId": "ee05f79b-170b-4b9d-fc4b-5ea7c20edb09",
        "colab": {
          "base_uri": "https://localhost:8080/",
          "height": 35
        }
      },
      "execution_count": null,
      "outputs": [
        {
          "output_type": "execute_result",
          "data": {
            "text/plain": [
              "'/content'"
            ],
            "application/vnd.google.colaboratory.intrinsic+json": {
              "type": "string"
            }
          },
          "metadata": {},
          "execution_count": 11
        }
      ]
    },
    {
      "cell_type": "code",
      "source": [
        "sys.path.append('/content/MyModule') # Добавить свой путь для загрузки модуля."
      ],
      "metadata": {
        "id": "XNmPNyfSaltP"
      },
      "execution_count": null,
      "outputs": []
    },
    {
      "cell_type": "code",
      "source": [
        "# меняем рабочую директорию\n",
        "\n",
        "os.chdir('/sys') # сменить директорию на абсолютный путь\n",
        "os.getcwd()"
      ],
      "metadata": {
        "id": "M5nVmkia1i5s",
        "outputId": "c1be5864-9052-4bfa-9d9f-c8ff7754cd96",
        "colab": {
          "base_uri": "https://localhost:8080/",
          "height": 35
        }
      },
      "execution_count": null,
      "outputs": [
        {
          "output_type": "execute_result",
          "data": {
            "text/plain": [
              "'/sys'"
            ],
            "application/vnd.google.colaboratory.intrinsic+json": {
              "type": "string"
            }
          },
          "metadata": {},
          "execution_count": 9
        }
      ]
    },
    {
      "cell_type": "code",
      "source": [
        "os.chdir('/content') # сменить директорию на абсолютный путь\n",
        "os.getcwd()"
      ],
      "metadata": {
        "id": "dEyBfn2ActYn",
        "outputId": "46817bc8-682e-43df-f6fc-b48514ad12f2",
        "colab": {
          "base_uri": "https://localhost:8080/",
          "height": 35
        }
      },
      "execution_count": null,
      "outputs": [
        {
          "output_type": "execute_result",
          "data": {
            "text/plain": [
              "'/content'"
            ],
            "application/vnd.google.colaboratory.intrinsic+json": {
              "type": "string"
            }
          },
          "metadata": {},
          "execution_count": 10
        }
      ]
    },
    {
      "cell_type": "code",
      "source": [
        "os.chdir('sample_data') # сменить директорию на подпапку\n",
        "os.getcwd()"
      ],
      "metadata": {
        "id": "0IPZb4f-c8pc",
        "outputId": "893f5105-8c91-4fbc-fa99-34ae2154254c",
        "colab": {
          "base_uri": "https://localhost:8080/",
          "height": 35
        }
      },
      "execution_count": null,
      "outputs": [
        {
          "output_type": "execute_result",
          "data": {
            "text/plain": [
              "'/content/sample_data'"
            ],
            "application/vnd.google.colaboratory.intrinsic+json": {
              "type": "string"
            }
          },
          "metadata": {},
          "execution_count": 11
        }
      ]
    },
    {
      "cell_type": "code",
      "source": [
        "os.chdir('/content') # сменить директорию на родительскую\n",
        "os.getcwd()"
      ],
      "metadata": {
        "id": "7tmh3Dn9cfLM",
        "outputId": "bc348277-886d-45b3-fbb7-5af0afce013c",
        "colab": {
          "base_uri": "https://localhost:8080/",
          "height": 35
        }
      },
      "execution_count": null,
      "outputs": [
        {
          "output_type": "execute_result",
          "data": {
            "text/plain": [
              "'/content'"
            ],
            "application/vnd.google.colaboratory.intrinsic+json": {
              "type": "string"
            }
          },
          "metadata": {},
          "execution_count": 12
        }
      ]
    },
    {
      "cell_type": "markdown",
      "source": [
        "### ***Получение списка файлов и папок выбранной директории***\n",
        "\n",
        "---\n",
        "\n"
      ],
      "metadata": {
        "id": "3c48J6xV2UAp"
      }
    },
    {
      "cell_type": "code",
      "source": [
        "# получим список всех вложенных файлов в директории /content/sample_data\n",
        "os.listdir('sample_data')"
      ],
      "metadata": {
        "colab": {
          "base_uri": "https://localhost:8080/"
        },
        "id": "Pgv3arjN2bhx",
        "outputId": "dd513e9b-a7bd-48c2-a8ff-8462ac904b14"
      },
      "execution_count": null,
      "outputs": [
        {
          "output_type": "execute_result",
          "data": {
            "text/plain": [
              "['anscombe.json',\n",
              " 'README.md',\n",
              " 'california_housing_test.csv',\n",
              " 'california_housing_train.csv',\n",
              " 'mnist_train_small.csv',\n",
              " 'mnist_test.csv']"
            ]
          },
          "metadata": {},
          "execution_count": 13
        }
      ]
    },
    {
      "cell_type": "code",
      "source": [
        "%cd /content"
      ],
      "metadata": {
        "id": "DFvWpccTMh02",
        "colab": {
          "base_uri": "https://localhost:8080/"
        },
        "outputId": "44572169-7ff7-4c54-c0b6-2fe2afe54307"
      },
      "execution_count": null,
      "outputs": [
        {
          "output_type": "stream",
          "name": "stdout",
          "text": [
            "/content\n"
          ]
        }
      ]
    },
    {
      "cell_type": "code",
      "source": [
        "cd .."
      ],
      "metadata": {
        "id": "AlPbJqVFMcYC",
        "colab": {
          "base_uri": "https://localhost:8080/"
        },
        "outputId": "e366ee4d-dbc1-4afc-cab2-cbc0c35c3b8f"
      },
      "execution_count": null,
      "outputs": [
        {
          "output_type": "stream",
          "name": "stdout",
          "text": [
            "/\n"
          ]
        }
      ]
    },
    {
      "cell_type": "code",
      "source": [
        "# получим список всех вложенных файлов в директории /usr\n",
        "os.listdir('/usr')"
      ],
      "metadata": {
        "colab": {
          "base_uri": "https://localhost:8080/"
        },
        "id": "F21mPiOY2q_D",
        "outputId": "73272e98-342b-43a9-a908-cb571ee5bc25"
      },
      "execution_count": null,
      "outputs": [
        {
          "output_type": "execute_result",
          "data": {
            "text/plain": [
              "['lib64',\n",
              " 'libexec',\n",
              " 'share',\n",
              " 'lib',\n",
              " 'libx32',\n",
              " 'sbin',\n",
              " 'lib32',\n",
              " 'games',\n",
              " 'local',\n",
              " 'include',\n",
              " 'src',\n",
              " 'bin',\n",
              " 'colab',\n",
              " 'grte']"
            ]
          },
          "metadata": {},
          "execution_count": 15
        }
      ]
    },
    {
      "cell_type": "code",
      "source": [
        "%pwd"
      ],
      "metadata": {
        "id": "sWpDT2f-MvF2",
        "colab": {
          "base_uri": "https://localhost:8080/",
          "height": 35
        },
        "outputId": "114e9f16-b603-4770-f221-05f62f5871fd"
      },
      "execution_count": null,
      "outputs": [
        {
          "output_type": "execute_result",
          "data": {
            "text/plain": [
              "'/'"
            ],
            "application/vnd.google.colaboratory.intrinsic+json": {
              "type": "string"
            }
          },
          "metadata": {},
          "execution_count": 18
        }
      ]
    },
    {
      "cell_type": "code",
      "source": [
        "%cd /content"
      ],
      "metadata": {
        "colab": {
          "base_uri": "https://localhost:8080/"
        },
        "id": "ieYwMMj7QMbf",
        "outputId": "3f19dac4-b65f-4f7c-8151-ba50e328029a"
      },
      "execution_count": null,
      "outputs": [
        {
          "output_type": "stream",
          "name": "stdout",
          "text": [
            "/content\n"
          ]
        }
      ]
    },
    {
      "cell_type": "markdown",
      "source": [
        "### ***Проверка существования файлов или папок (...пути)***\n",
        "\n",
        "---\n",
        "\n"
      ],
      "metadata": {
        "id": "VVoUtm6AVBlC"
      }
    },
    {
      "cell_type": "code",
      "source": [
        "# в случае существования файла README.md функция вернёт True\n",
        "os.path.exists('sample_data/README.md')"
      ],
      "metadata": {
        "id": "IK04UokCVGIr",
        "colab": {
          "base_uri": "https://localhost:8080/"
        },
        "outputId": "a8a89eaf-721e-429f-c30f-0dc7de64a616"
      },
      "execution_count": null,
      "outputs": [
        {
          "output_type": "execute_result",
          "data": {
            "text/plain": [
              "True"
            ]
          },
          "metadata": {},
          "execution_count": 21
        }
      ]
    },
    {
      "cell_type": "code",
      "source": [
        "# в случае существования файла WRITEME.md функция вернёт True\n",
        "os.path.exists('/content/sample_data/WRITEME.md')"
      ],
      "metadata": {
        "id": "3ANYt-zmVX-T",
        "colab": {
          "base_uri": "https://localhost:8080/"
        },
        "outputId": "438f3c84-b8a0-4df6-c6b9-edbd695032d4"
      },
      "execution_count": null,
      "outputs": [
        {
          "output_type": "execute_result",
          "data": {
            "text/plain": [
              "False"
            ]
          },
          "metadata": {},
          "execution_count": 22
        }
      ]
    },
    {
      "cell_type": "code",
      "source": [
        "os.chdir('/content')\n",
        "os.getcwd()"
      ],
      "metadata": {
        "colab": {
          "base_uri": "https://localhost:8080/",
          "height": 35
        },
        "id": "a85_XGshswC0",
        "outputId": "dd30393e-5695-409b-8f1c-5beb714ca86f"
      },
      "execution_count": null,
      "outputs": [
        {
          "output_type": "execute_result",
          "data": {
            "text/plain": [
              "'/content'"
            ],
            "application/vnd.google.colaboratory.intrinsic+json": {
              "type": "string"
            }
          },
          "metadata": {},
          "execution_count": 17
        }
      ]
    },
    {
      "cell_type": "code",
      "source": [
        "os.path.exists('/content/sample_data')"
      ],
      "metadata": {
        "colab": {
          "base_uri": "https://localhost:8080/"
        },
        "id": "-drSZkqls-_q",
        "outputId": "798ef41f-915c-4bb5-a620-e9c172ed677b"
      },
      "execution_count": null,
      "outputs": [
        {
          "output_type": "execute_result",
          "data": {
            "text/plain": [
              "True"
            ]
          },
          "metadata": {},
          "execution_count": 23
        }
      ]
    },
    {
      "cell_type": "markdown",
      "source": [
        "### ***Создание папок***\n",
        "\n",
        "---\n",
        "\n"
      ],
      "metadata": {
        "id": "lV07tyyJ4TT7"
      }
    },
    {
      "cell_type": "code",
      "source": [
        "# создадим папку folder_1 в директории /content/sample_data\n",
        "os.mkdir('folder_1')"
      ],
      "metadata": {
        "id": "ltDoh2yp4Xtp"
      },
      "execution_count": null,
      "outputs": []
    },
    {
      "cell_type": "markdown",
      "source": [
        "Папка `folder_1` создана в директории `\\content\\sample_data`. Если бы такой директории не существовало, то ячейка бы завершила работу с ошибкой.\n",
        "\n",
        "Попробуем создать папку в несуществующей директории"
      ],
      "metadata": {
        "id": "YadvlFdQ4oqN"
      }
    },
    {
      "cell_type": "code",
      "source": [
        "# создадим папку folder_2 в директории /content/sample_data/non_existent_folder\n",
        "os.mkdir('/content/sample_data/non_existent_folder/folder_2')"
      ],
      "metadata": {
        "colab": {
          "base_uri": "https://localhost:8080/",
          "height": 158
        },
        "id": "LxxH9job417I",
        "outputId": "aabc0bde-c5ac-44a0-8600-da0411e1cfe6"
      },
      "execution_count": null,
      "outputs": [
        {
          "output_type": "error",
          "ename": "FileNotFoundError",
          "evalue": "[Errno 2] No such file or directory: '/content/sample_data/non_existent_folder/folder_2'",
          "traceback": [
            "\u001b[0;31m---------------------------------------------------------------------------\u001b[0m",
            "\u001b[0;31mFileNotFoundError\u001b[0m                         Traceback (most recent call last)",
            "\u001b[0;32m<ipython-input-26-b94eddfd3d56>\u001b[0m in \u001b[0;36m<cell line: 2>\u001b[0;34m()\u001b[0m\n\u001b[1;32m      1\u001b[0m \u001b[0;31m# создадим папку folder_2 в директории /content/sample_data/non_existent_folder\u001b[0m\u001b[0;34m\u001b[0m\u001b[0;34m\u001b[0m\u001b[0m\n\u001b[0;32m----> 2\u001b[0;31m \u001b[0mos\u001b[0m\u001b[0;34m.\u001b[0m\u001b[0mmkdir\u001b[0m\u001b[0;34m(\u001b[0m\u001b[0;34m'/content/sample_data/non_existent_folder/folder_2'\u001b[0m\u001b[0;34m)\u001b[0m\u001b[0;34m\u001b[0m\u001b[0;34m\u001b[0m\u001b[0m\n\u001b[0m",
            "\u001b[0;31mFileNotFoundError\u001b[0m: [Errno 2] No such file or directory: '/content/sample_data/non_existent_folder/folder_2'"
          ]
        }
      ]
    },
    {
      "cell_type": "markdown",
      "source": [
        "Ошибка! Так как директории `\\content\\sample_data\\non_existent_folder` не существует."
      ],
      "metadata": {
        "id": "xTOrEWLM5wVr"
      }
    },
    {
      "cell_type": "markdown",
      "source": [
        "Есть способ создать папку в несуществующей директории, но тогда сначала будет создана эта директория, а потом и папка в ней."
      ],
      "metadata": {
        "id": "l__ZZ-gx-5mS"
      }
    },
    {
      "cell_type": "code",
      "source": [
        "# создадим папку в несуществующей директории (вместе с самой директорией)\n",
        "os.makedirs('/content/sample_data/non_existent_folder/folder_2')"
      ],
      "metadata": {
        "id": "Quf8Ji0R_F_M"
      },
      "execution_count": null,
      "outputs": []
    },
    {
      "cell_type": "code",
      "source": [],
      "metadata": {
        "id": "7faryr-Zh8bq"
      },
      "execution_count": null,
      "outputs": []
    },
    {
      "cell_type": "markdown",
      "source": [
        "> *Для примера создадим доп. Папку*"
      ],
      "metadata": {
        "id": "GYS1KCcVh9Lq"
      }
    },
    {
      "cell_type": "code",
      "source": [
        "os.mkdir('/content/Example')"
      ],
      "metadata": {
        "id": "cKjQs3bQeS2A"
      },
      "execution_count": null,
      "outputs": []
    },
    {
      "cell_type": "code",
      "source": [
        "for i in range(10, 60): os.mkdir(f'Example/folder_{i}')"
      ],
      "metadata": {
        "id": "rUNpRFl054aY"
      },
      "execution_count": null,
      "outputs": []
    },
    {
      "cell_type": "code",
      "source": [
        "lst = os.listdir('Example')\n",
        "lst[:5]"
      ],
      "metadata": {
        "id": "COxCicF0g8vy",
        "outputId": "6e34ae47-e099-4691-9e56-c8e4b41cb9ac",
        "colab": {
          "base_uri": "https://localhost:8080/"
        }
      },
      "execution_count": null,
      "outputs": [
        {
          "output_type": "execute_result",
          "data": {
            "text/plain": [
              "['folder_48', 'folder_28', 'folder_39', 'folder_34', 'folder_56']"
            ]
          },
          "metadata": {},
          "execution_count": 30
        }
      ]
    },
    {
      "cell_type": "code",
      "source": [
        "lst = sorted(lst, key=lambda x: x.split('_')[-1])\n",
        "lst[:5]"
      ],
      "metadata": {
        "id": "l9hjf5bUfgez",
        "outputId": "f4b6980f-37c5-4840-aa6f-73cc956337c5",
        "colab": {
          "base_uri": "https://localhost:8080/"
        }
      },
      "execution_count": null,
      "outputs": [
        {
          "output_type": "execute_result",
          "data": {
            "text/plain": [
              "['folder_10', 'folder_11', 'folder_12', 'folder_13', 'folder_14']"
            ]
          },
          "metadata": {},
          "execution_count": 38
        }
      ]
    },
    {
      "cell_type": "code",
      "source": [
        "'folder_11'.split('_')[-1]"
      ],
      "metadata": {
        "colab": {
          "base_uri": "https://localhost:8080/",
          "height": 35
        },
        "id": "BaKkeUiqOdHr",
        "outputId": "8f44a050-0c8d-4344-f0c1-d3a03bcf5c26"
      },
      "execution_count": null,
      "outputs": [
        {
          "output_type": "execute_result",
          "data": {
            "text/plain": [
              "'11'"
            ],
            "application/vnd.google.colaboratory.intrinsic+json": {
              "type": "string"
            }
          },
          "metadata": {},
          "execution_count": 39
        }
      ]
    },
    {
      "cell_type": "markdown",
      "source": [
        "### ***Создаем файлы в папке***\n",
        "\n",
        "---\n",
        "\n"
      ],
      "metadata": {
        "id": "zWtFBD52jVDU"
      }
    },
    {
      "cell_type": "markdown",
      "source": [
        "#### **Работа с файлами**"
      ],
      "metadata": {
        "id": "h0S4cXshnm58"
      }
    },
    {
      "cell_type": "markdown",
      "source": [
        "Основа для работы с файлами — встроенная функция `open()`\n",
        "\n",
        "     open(file, mode=\"rt\")\n",
        "\n",
        "Эта функция используется для создания, чтения, изменения файлов.\n",
        "Аргумент `file` это путь к файлу, а `mode` это режим работы с файлами, который бывает:\n",
        "```markdown\n",
        "Режим     | Что позволяет делать\n",
        "----------|----------------------\n",
        "\"r\"       | Чтение из файла\n",
        "\"w\"       | Запись в файл. Если файл не существует, то он будет создан\n",
        "\"x\"       | Запись в файл. Если файл не существует, то будет вызвано исключение\n",
        "\"a\"       | Запись в файл. В отличие от предыдущих режимов, не стирает данные, которые уже хранятся в файле, а добавляет новые в конец\n",
        "\"b\"       | Открывает как двоичный файл\n",
        "```"
      ],
      "metadata": {
        "id": "5rUEwrCjmWX0"
      }
    },
    {
      "cell_type": "markdown",
      "source": [
        "При работе с файлами могут возникать ***исключения***, прерывающие работу программы:"
      ],
      "metadata": {
        "id": "R6oWdsJXluNE"
      }
    },
    {
      "cell_type": "code",
      "source": [
        "f = open('newfile.txt', 'ab')\n",
        "s = f.read()\n",
        "f.close()\n",
        "\n",
        "print(s)"
      ],
      "metadata": {
        "colab": {
          "base_uri": "https://localhost:8080/",
          "height": 249
        },
        "id": "jorzMJItOrhA",
        "outputId": "372f4218-7ab8-48d0-b43c-c669adb76f4e"
      },
      "execution_count": null,
      "outputs": [
        {
          "output_type": "error",
          "ename": "UnsupportedOperation",
          "evalue": "ignored",
          "traceback": [
            "\u001b[0;31m---------------------------------------------------------------------------\u001b[0m",
            "\u001b[0;31mUnsupportedOperation\u001b[0m                      Traceback (most recent call last)",
            "\u001b[0;32m<ipython-input-23-c971bd838d8a>\u001b[0m in \u001b[0;36m<cell line: 2>\u001b[0;34m()\u001b[0m\n\u001b[1;32m      1\u001b[0m \u001b[0mf\u001b[0m \u001b[0;34m=\u001b[0m \u001b[0mopen\u001b[0m\u001b[0;34m(\u001b[0m\u001b[0;34m'newfile.txt'\u001b[0m\u001b[0;34m,\u001b[0m \u001b[0;34m'ab'\u001b[0m\u001b[0;34m)\u001b[0m\u001b[0;34m\u001b[0m\u001b[0;34m\u001b[0m\u001b[0m\n\u001b[0;32m----> 2\u001b[0;31m \u001b[0ms\u001b[0m \u001b[0;34m=\u001b[0m \u001b[0mf\u001b[0m\u001b[0;34m.\u001b[0m\u001b[0mread\u001b[0m\u001b[0;34m(\u001b[0m\u001b[0;34m)\u001b[0m\u001b[0;34m\u001b[0m\u001b[0;34m\u001b[0m\u001b[0m\n\u001b[0m\u001b[1;32m      3\u001b[0m \u001b[0mf\u001b[0m\u001b[0;34m.\u001b[0m\u001b[0mclose\u001b[0m\u001b[0;34m(\u001b[0m\u001b[0;34m)\u001b[0m\u001b[0;34m\u001b[0m\u001b[0;34m\u001b[0m\u001b[0m\n\u001b[1;32m      4\u001b[0m \u001b[0;34m\u001b[0m\u001b[0m\n\u001b[1;32m      5\u001b[0m \u001b[0mprint\u001b[0m\u001b[0;34m(\u001b[0m\u001b[0ms\u001b[0m\u001b[0;34m)\u001b[0m\u001b[0;34m\u001b[0m\u001b[0;34m\u001b[0m\u001b[0m\n",
            "\u001b[0;31mUnsupportedOperation\u001b[0m: read"
          ]
        }
      ]
    },
    {
      "cell_type": "markdown",
      "source": [
        "Для обработки исключений используйте блок:\n",
        "\n",
        "\n",
        "\n",
        "```\n",
        "try:\n",
        "except:\n",
        "finally:\n",
        "```\n",
        "\n"
      ],
      "metadata": {
        "id": "FKRIHu5emIj1"
      }
    },
    {
      "cell_type": "markdown",
      "source": [
        "пример обработки исключения:"
      ],
      "metadata": {
        "id": "SF7e_scHm0Sx"
      }
    },
    {
      "cell_type": "code",
      "source": [
        "f = open('newfile.txt', 'ab')\n",
        "try:\n",
        "    s = f.read() # Тут могут возникать исключеня\n",
        "except: # Обработка исключений\n",
        "    print('Ошибка!') # Если исключение, то выполняется этот блок.\n",
        "finally: # Освобождение ресурсов\n",
        "    f.close() # Это блок выполняется всегда, независимо, было или нет исключение"
      ],
      "metadata": {
        "colab": {
          "base_uri": "https://localhost:8080/"
        },
        "id": "VaocWgItmpuM",
        "outputId": "6e01d764-806f-4eca-d377-baf05343a91e"
      },
      "execution_count": null,
      "outputs": [
        {
          "output_type": "stream",
          "name": "stdout",
          "text": [
            "Ошибка!\n"
          ]
        }
      ]
    },
    {
      "cell_type": "markdown",
      "source": [
        "Запишем в файл `'Первая запись\\n'`"
      ],
      "metadata": {
        "id": "8yl8CKOqm7w8"
      }
    },
    {
      "cell_type": "code",
      "source": [
        "f = open('newfile.txt', 'w')\n",
        "try:\n",
        "    f.write('Первая запись\\n')\n",
        "except:\n",
        "    print('Ошибка!')\n",
        "finally:\n",
        "    f.close()"
      ],
      "metadata": {
        "id": "3BPpph98PReH"
      },
      "execution_count": null,
      "outputs": []
    },
    {
      "cell_type": "markdown",
      "source": [
        "**Как лучше открыть файл?**\n",
        "\n",
        "Есть 2 способа как можно открыть файл при помощи функции open():\n",
        "\n",
        "1 - явное закрытие файла с помощью `f.close()`.\n",
        "\n",
        "    f = open('newfile.txt', 'w')\n",
        "    f.write('Первая запись\\n')\n",
        "    f.close()\n",
        "\n",
        "Открываем файл, выполняем какие-то операции и затем закрываем его командой `f.close()`. При открытии файла на него выделелись ресурсы, и если вдруг в момент выполнения операций (до закрытия) появится ошибка и не выполнится команда `f.close()`, то эти ресурсы не будут освобождены, что является неоптимальным использованием ресурсов. Чтобы этого не случилось можно воспользоваться обработкой исключений:\n",
        "\n",
        "    f = open('newfile.txt', 'w')\n",
        "    try:\n",
        "        f.write('Первая запись\\n')\n",
        "    except:\n",
        "        print('Ошибка!')\n",
        "    finally:\n",
        "        f.close()\n",
        "\n",
        "Этот код эквивалентен второму способу открытия файлов.\n",
        "\n",
        "2 - контекстный менеджер:\n",
        "\n",
        "    with open('newfile.txt', 'w') as f:\n",
        "        f.write('Первая запись\\n')\n",
        "\n",
        "Основное преимущество использования `with` - это гарантия закрытия файла вне зависимости от того, как будет завершён вложенный код (не нужно использовать `f.close()`)."
      ],
      "metadata": {
        "id": "yFQNt9-Qncee"
      }
    },
    {
      "cell_type": "markdown",
      "source": [
        "#### **Запись данных**"
      ],
      "metadata": {
        "id": "cnWKxbI5oKgD"
      }
    },
    {
      "cell_type": "code",
      "source": [
        "# 1 Вариант\n",
        "\n",
        "f = open('newfile.txt', 'w')\n",
        "f.write('Новая запись\\n')\n",
        "for i in range(1,11):\n",
        "    f.write(f'{i} запись\\n')\n",
        "f.close()"
      ],
      "metadata": {
        "id": "spdkT6bLjqMq"
      },
      "execution_count": null,
      "outputs": []
    },
    {
      "cell_type": "code",
      "source": [
        "os.getcwd() # Определение текущей и файловой директории"
      ],
      "metadata": {
        "colab": {
          "base_uri": "https://localhost:8080/",
          "height": 35
        },
        "id": "aGFxGy2avaKG",
        "outputId": "0e8312c8-e64b-43d9-c728-2525b026bb97"
      },
      "execution_count": null,
      "outputs": [
        {
          "output_type": "execute_result",
          "data": {
            "text/plain": [
              "'/content'"
            ],
            "application/vnd.google.colaboratory.intrinsic+json": {
              "type": "string"
            }
          },
          "metadata": {},
          "execution_count": 35
        }
      ]
    },
    {
      "cell_type": "code",
      "source": [
        "# 2 Вариант *\n",
        "\n",
        "with open('newfile.txt', 'w') as f:\n",
        "    for i in range(1,11):\n",
        "        f.write(f'{i} запись\\n')"
      ],
      "metadata": {
        "id": "ZCxU-MJPoJ_S"
      },
      "execution_count": null,
      "outputs": []
    },
    {
      "cell_type": "markdown",
      "source": [
        "Первая запись удалилась, почему? Всё из-за того, что мы используем метод `'w'`. Каждый раз, при открытии файла с этим методом файл будет очищен.\n",
        "\n",
        "Если нам нужно добавить в файл список каких-то значений, то удобно использовать функцию `f.writelines()`."
      ],
      "metadata": {
        "id": "6exBEhQtpnaJ"
      }
    },
    {
      "cell_type": "code",
      "source": [
        "list_str = ['Первая строка\\n', 'Вторая строка\\n', 'Третья строка\\n', 'Последняя?\\n']\n",
        "\n",
        "with open('my_file.txt', 'w') as f:\n",
        "    for i in list_str:\n",
        "      f.write(i)"
      ],
      "metadata": {
        "id": "saqeuMEGoKBp"
      },
      "execution_count": null,
      "outputs": []
    },
    {
      "cell_type": "markdown",
      "source": [
        "**`.writelines`**(записывает список строк в файл без добавления символов перевода строки)"
      ],
      "metadata": {
        "id": "Sm81XlaVrVH-"
      }
    },
    {
      "cell_type": "code",
      "source": [
        "# эквивалентная запись\n",
        "with open('my_file2.txt', 'w') as f:\n",
        "    f.writelines(list_str)"
      ],
      "metadata": {
        "id": "m2BLbyVHoKDw"
      },
      "execution_count": null,
      "outputs": []
    },
    {
      "cell_type": "markdown",
      "source": [
        "**`.readlines`**(читает все строки из файла и возвращает их как список строк)"
      ],
      "metadata": {
        "id": "zUk7Nyz0sAWa"
      }
    },
    {
      "cell_type": "code",
      "source": [
        "with open('my_file2.txt', 'r') as f:\n",
        "    lines = f.readlines()\n",
        "\n",
        "print(lines, end='\\n\\n')"
      ],
      "metadata": {
        "colab": {
          "base_uri": "https://localhost:8080/"
        },
        "id": "opSHX5q-r9ie",
        "outputId": "d3853247-5304-4ba8-b74b-47e29c8075df"
      },
      "execution_count": null,
      "outputs": [
        {
          "output_type": "stream",
          "name": "stdout",
          "text": [
            "['Первая строка\\n', 'Вторая строка\\n', 'Третья строка\\n', 'Последняя?\\n']\n",
            "\n"
          ]
        }
      ]
    },
    {
      "cell_type": "code",
      "source": [
        "with open('my_file2.txt', 'r') as f:\n",
        "    lines = f.readline() # читает одну строку из файла и возвращает ее как строку\n",
        "\n",
        "print(lines, end='\\n\\n')"
      ],
      "metadata": {
        "colab": {
          "base_uri": "https://localhost:8080/"
        },
        "id": "d2NrOBuHtIgu",
        "outputId": "d5703ca0-74a9-4268-9e75-dfb3c911051f"
      },
      "execution_count": null,
      "outputs": [
        {
          "output_type": "stream",
          "name": "stdout",
          "text": [
            "Первая строка\n",
            "\n",
            "\n"
          ]
        }
      ]
    },
    {
      "cell_type": "code",
      "source": [
        "with open('my_file2.txt', 'r') as f:\n",
        "    data = f.read()\n",
        "    print(data)"
      ],
      "metadata": {
        "colab": {
          "base_uri": "https://localhost:8080/"
        },
        "id": "SB-1Q5jIt1DS",
        "outputId": "e8a2754d-6ffc-4130-8789-d9b754e05de1"
      },
      "execution_count": null,
      "outputs": [
        {
          "output_type": "stream",
          "name": "stdout",
          "text": [
            "Первая строка\n",
            "Вторая строка\n",
            "Третья строка\n",
            "Последняя?\n",
            "\n"
          ]
        }
      ]
    },
    {
      "cell_type": "code",
      "source": [
        "os.chdir('/content/Example/folder_10')#Сменили директорию\n",
        "\n",
        "for i in range(1,6):#Записали шесть файлов.\n",
        "    with open(f'file_{i}.txt', 'a') as f:\n",
        "        f.write(f'Fail № {i}')"
      ],
      "metadata": {
        "id": "cvIksHTUoKIM"
      },
      "execution_count": null,
      "outputs": []
    },
    {
      "cell_type": "code",
      "source": [
        "os.chdir('/content')\n",
        "os.getcwd()"
      ],
      "metadata": {
        "colab": {
          "base_uri": "https://localhost:8080/",
          "height": 35
        },
        "id": "2P6Rktt5vxv-",
        "outputId": "f2d958e4-00da-4712-b06f-9c01f884ee22"
      },
      "execution_count": null,
      "outputs": [
        {
          "output_type": "execute_result",
          "data": {
            "text/plain": [
              "'/content'"
            ],
            "application/vnd.google.colaboratory.intrinsic+json": {
              "type": "string"
            }
          },
          "metadata": {},
          "execution_count": 33
        }
      ]
    },
    {
      "cell_type": "code",
      "source": [
        "os.listdir('Example')#Список содержимого директории \"/content/Example\""
      ],
      "metadata": {
        "id": "F0hHsT8LwQhp",
        "colab": {
          "base_uri": "https://localhost:8080/"
        },
        "outputId": "8594c61e-20f4-44cc-ca80-7719017950fc"
      },
      "execution_count": null,
      "outputs": [
        {
          "output_type": "execute_result",
          "data": {
            "text/plain": [
              "['folder_48',\n",
              " 'folder_28',\n",
              " 'folder_39',\n",
              " 'folder_34',\n",
              " 'folder_56',\n",
              " 'folder_36',\n",
              " 'folder_55',\n",
              " 'folder_35',\n",
              " 'folder_38',\n",
              " 'folder_23',\n",
              " 'folder_54',\n",
              " 'folder_30',\n",
              " 'folder_26',\n",
              " 'folder_17',\n",
              " 'folder_14',\n",
              " 'folder_19',\n",
              " 'folder_21',\n",
              " 'folder_57',\n",
              " 'folder_29',\n",
              " 'folder_25',\n",
              " 'folder_51',\n",
              " 'folder_31',\n",
              " 'folder_41',\n",
              " 'folder_52',\n",
              " 'folder_10',\n",
              " 'folder_37',\n",
              " 'folder_16',\n",
              " 'folder_45',\n",
              " 'folder_40',\n",
              " 'folder_53',\n",
              " 'folder_49',\n",
              " 'folder_12',\n",
              " 'folder_50',\n",
              " 'folder_24',\n",
              " 'folder_58',\n",
              " 'folder_46',\n",
              " 'folder_11',\n",
              " 'folder_32',\n",
              " 'folder_59',\n",
              " 'folder_18',\n",
              " 'folder_33',\n",
              " 'folder_27',\n",
              " 'folder_47',\n",
              " 'folder_42',\n",
              " 'folder_44',\n",
              " 'folder_43',\n",
              " 'folder_13',\n",
              " 'folder_15',\n",
              " 'folder_20',\n",
              " 'folder_22']"
            ]
          },
          "metadata": {},
          "execution_count": 34
        }
      ]
    },
    {
      "cell_type": "code",
      "source": [
        "with open('/content/Example/folder_10/file_4.txt', 'r') as f:\n",
        "    res = f.read()\n",
        "\n",
        "res"
      ],
      "metadata": {
        "colab": {
          "base_uri": "https://localhost:8080/",
          "height": 35
        },
        "id": "67Vkv6nmwek4",
        "outputId": "0a859d58-656b-4c6c-d72f-f99a1cabdd78"
      },
      "execution_count": null,
      "outputs": [
        {
          "output_type": "execute_result",
          "data": {
            "text/plain": [
              "'Fail № 4'"
            ],
            "application/vnd.google.colaboratory.intrinsic+json": {
              "type": "string"
            }
          },
          "metadata": {},
          "execution_count": 43
        }
      ]
    },
    {
      "cell_type": "code",
      "source": [
        "os.getcwd()"
      ],
      "metadata": {
        "colab": {
          "base_uri": "https://localhost:8080/",
          "height": 35
        },
        "id": "CVu1VSBBzYdx",
        "outputId": "456caf42-c52a-4b3d-ec5a-4414c788a5cf"
      },
      "execution_count": null,
      "outputs": [
        {
          "output_type": "execute_result",
          "data": {
            "text/plain": [
              "'/content'"
            ],
            "application/vnd.google.colaboratory.intrinsic+json": {
              "type": "string"
            }
          },
          "metadata": {},
          "execution_count": 44
        }
      ]
    },
    {
      "cell_type": "code",
      "source": [
        "#Удаление директории со всем содержимым\n",
        "!rm -r '/content/Example'"
      ],
      "metadata": {
        "id": "YEHbzMwdxs5u"
      },
      "execution_count": null,
      "outputs": []
    },
    {
      "cell_type": "markdown",
      "source": [
        "#### **Создадим python скрипт**"
      ],
      "metadata": {
        "id": "xBCG3OxpxL5n"
      }
    },
    {
      "cell_type": "code",
      "source": [
        "#Текст скрипта в переменную text\n",
        "text = '''\n",
        "import os\n",
        "os.mkdir('Example')\n",
        "\n",
        "for i in range(1,6):\n",
        "    with open(f'Example/file_{i}.txt', 'a') as f:\n",
        "        f.write(f'Fail № {i}')\n",
        "'''.strip()\n",
        "\n",
        "\n",
        "print(text)"
      ],
      "metadata": {
        "id": "X3Rc80jkxEv6",
        "colab": {
          "base_uri": "https://localhost:8080/"
        },
        "outputId": "dfd2104a-4bc6-494b-894e-644894c006a9"
      },
      "execution_count": null,
      "outputs": [
        {
          "output_type": "stream",
          "name": "stdout",
          "text": [
            "import os\n",
            "os.mkdir('Example')\n",
            "\n",
            "for i in range(1,6):\n",
            "    with open(f'Example/file_{i}.txt', 'a') as f:\n",
            "        f.write(f'Fail № {i}')\n"
          ]
        }
      ]
    },
    {
      "cell_type": "code",
      "source": [
        "#Переменную text сохраните в файл 'troyan.py'\n",
        "with open('troyan.py', 'w') as f:\n",
        "    f.write(text)"
      ],
      "metadata": {
        "id": "woma-TtnyHEU"
      },
      "execution_count": null,
      "outputs": []
    },
    {
      "cell_type": "code",
      "source": [
        "#Запустите 'troyan.py'\n",
        "%run troyan.py\n",
        "#результат работы скрипта\n",
        "os.listdir('Example')#Список содержимого директории \"/content/Example\""
      ],
      "metadata": {
        "id": "XP6-YJ-TRZ1K",
        "colab": {
          "base_uri": "https://localhost:8080/"
        },
        "outputId": "6dc62e14-fbbe-4211-c5f1-b2b4ca49782a"
      },
      "execution_count": null,
      "outputs": [
        {
          "output_type": "execute_result",
          "data": {
            "text/plain": [
              "['file_2.txt', 'file_3.txt', 'file_5.txt', 'file_4.txt', 'file_1.txt']"
            ]
          },
          "metadata": {},
          "execution_count": 44
        }
      ]
    },
    {
      "cell_type": "markdown",
      "source": [
        "`%%html` Отрендерит ячейку как код HTML, используйте с осторожностью!"
      ],
      "metadata": {
        "id": "jX5OTA_Pd65E"
      }
    },
    {
      "cell_type": "code",
      "source": [
        "%%html\n",
        "\n",
        "<!DOCTYPE HTML PUBLIC \"-//W3C//DTD HTML 4.01//EN\" \"http://www.w3.org/TR/html4/strict.dtd\">\n",
        "<html>\n",
        " <head>\n",
        "  <meta http-equiv=\"Content-Type\" content=\"text/html; charset=utf-8\">\n",
        "  <title>Пример веб-страницы</title>\n",
        " </head>\n",
        " <body>\n",
        "  <h1>Заголовок</h1>\n",
        "  <!-- Комментарий -->\n",
        "  <p>Первый абзац.</p>\n",
        "  <p>Второй абзац.</p>\n",
        " </body>\n",
        "</html>"
      ],
      "metadata": {
        "colab": {
          "base_uri": "https://localhost:8080/",
          "height": 123
        },
        "id": "UN0zlQmhR96w",
        "outputId": "a95dacde-640e-4fd2-adb4-a1b183681392"
      },
      "execution_count": null,
      "outputs": [
        {
          "output_type": "display_data",
          "data": {
            "text/plain": [
              "<IPython.core.display.HTML object>"
            ],
            "text/html": [
              "\n",
              "<!DOCTYPE HTML PUBLIC \"-//W3C//DTD HTML 4.01//EN\" \"http://www.w3.org/TR/html4/strict.dtd\">\n",
              "<html>\n",
              " <head>\n",
              "  <meta http-equiv=\"Content-Type\" content=\"text/html; charset=utf-8\">\n",
              "  <title>Пример веб-страницы</title>\n",
              " </head>\n",
              " <body>\n",
              "  <h1>Заголовок</h1>\n",
              "  <!-- Комментарий -->\n",
              "  <p>Первый абзац.</p>\n",
              "  <p>Второй абзац.</p>\n",
              " </body>\n",
              "</html>\n"
            ]
          },
          "metadata": {}
        }
      ]
    },
    {
      "cell_type": "code",
      "source": [
        "# Выводит список доступных магических команд.\n",
        "%lsmagic"
      ],
      "metadata": {
        "id": "61xKGYuVRxtr",
        "colab": {
          "base_uri": "https://localhost:8080/",
          "height": 247
        },
        "outputId": "63b38b65-7ca6-4200-8f86-94aa992a25e0"
      },
      "execution_count": null,
      "outputs": [
        {
          "output_type": "execute_result",
          "data": {
            "text/plain": [
              "Available line magics:\n",
              "%alias  %alias_magic  %autoawait  %autocall  %automagic  %autosave  %bookmark  %cat  %cd  %clear  %colors  %conda  %config  %connect_info  %cp  %debug  %dhist  %dirs  %doctest_mode  %ed  %edit  %env  %gui  %hist  %history  %killbgscripts  %ldir  %less  %lf  %lk  %ll  %load  %load_ext  %loadpy  %logoff  %logon  %logstart  %logstate  %logstop  %ls  %lsmagic  %lx  %macro  %magic  %man  %matplotlib  %mkdir  %more  %mv  %notebook  %page  %pastebin  %pdb  %pdef  %pdoc  %pfile  %pinfo  %pinfo2  %pip  %popd  %pprint  %precision  %prun  %psearch  %psource  %pushd  %pwd  %pycat  %pylab  %qtconsole  %quickref  %recall  %rehashx  %reload_ext  %rep  %rerun  %reset  %reset_selective  %rm  %rmdir  %run  %save  %sc  %set_env  %shell  %store  %sx  %system  %tb  %tensorflow_version  %time  %timeit  %unalias  %unload_ext  %who  %who_ls  %whos  %xdel  %xmode\n",
              "\n",
              "Available cell magics:\n",
              "%%!  %%HTML  %%SVG  %%bash  %%bigquery  %%capture  %%debug  %%file  %%html  %%javascript  %%js  %%latex  %%markdown  %%perl  %%prun  %%pypy  %%python  %%python2  %%python3  %%ruby  %%script  %%sh  %%shell  %%svg  %%sx  %%system  %%time  %%timeit  %%writefile\n",
              "\n",
              "Automagic is ON, % prefix IS NOT needed for line magics."
            ],
            "application/json": {
              "line": {
                "automagic": "AutoMagics",
                "autocall": "AutoMagics",
                "alias_magic": "BasicMagics",
                "lsmagic": "BasicMagics",
                "magic": "BasicMagics",
                "page": "BasicMagics",
                "pprint": "BasicMagics",
                "colors": "BasicMagics",
                "xmode": "BasicMagics",
                "quickref": "BasicMagics",
                "doctest_mode": "BasicMagics",
                "gui": "BasicMagics",
                "precision": "BasicMagics",
                "notebook": "BasicMagics",
                "save": "CodeMagics",
                "pastebin": "CodeMagics",
                "loadpy": "CodeMagics",
                "load": "CodeMagics",
                "edit": "KernelMagics",
                "config": "ConfigMagics",
                "prun": "ExecutionMagics",
                "pdb": "ExecutionMagics",
                "debug": "ExecutionMagics",
                "tb": "ExecutionMagics",
                "run": "ExecutionMagics",
                "timeit": "ExecutionMagics",
                "time": "ExecutionMagics",
                "macro": "ExecutionMagics",
                "load_ext": "ExtensionMagics",
                "unload_ext": "ExtensionMagics",
                "reload_ext": "ExtensionMagics",
                "history": "HistoryMagics",
                "recall": "HistoryMagics",
                "rerun": "HistoryMagics",
                "logstart": "LoggingMagics",
                "logstop": "LoggingMagics",
                "logoff": "LoggingMagics",
                "logon": "LoggingMagics",
                "logstate": "LoggingMagics",
                "pinfo": "NamespaceMagics",
                "pinfo2": "NamespaceMagics",
                "pdef": "NamespaceMagics",
                "pdoc": "NamespaceMagics",
                "psource": "NamespaceMagics",
                "pfile": "NamespaceMagics",
                "psearch": "NamespaceMagics",
                "who_ls": "NamespaceMagics",
                "who": "NamespaceMagics",
                "whos": "NamespaceMagics",
                "reset": "NamespaceMagics",
                "reset_selective": "NamespaceMagics",
                "xdel": "NamespaceMagics",
                "alias": "OSMagics",
                "unalias": "OSMagics",
                "rehashx": "OSMagics",
                "pwd": "OSMagics",
                "cd": "OSMagics",
                "env": "OSMagics",
                "set_env": "OSMagics",
                "pushd": "OSMagics",
                "popd": "OSMagics",
                "dirs": "OSMagics",
                "dhist": "OSMagics",
                "sc": "OSMagics",
                "sx": "OSMagics",
                "system": "OSMagics",
                "bookmark": "OSMagics",
                "pycat": "OSMagics",
                "pip": "Other",
                "conda": "PackagingMagics",
                "matplotlib": "PylabMagics",
                "pylab": "PylabMagics",
                "killbgscripts": "ScriptMagics",
                "autoawait": "AsyncMagics",
                "ed": "Other",
                "hist": "Other",
                "rep": "Other",
                "clear": "KernelMagics",
                "less": "KernelMagics",
                "more": "KernelMagics",
                "man": "KernelMagics",
                "connect_info": "KernelMagics",
                "qtconsole": "KernelMagics",
                "autosave": "KernelMagics",
                "mkdir": "Other",
                "rmdir": "Other",
                "mv": "Other",
                "rm": "Other",
                "cp": "Other",
                "cat": "Other",
                "ls": "Other",
                "ll": "Other",
                "lf": "Other",
                "lk": "Other",
                "ldir": "Other",
                "lx": "Other",
                "store": "StoreMagics",
                "shell": "Other",
                "tensorflow_version": "Other"
              },
              "cell": {
                "js": "DisplayMagics",
                "javascript": "DisplayMagics",
                "latex": "DisplayMagics",
                "svg": "DisplayMagics",
                "html": "DisplayMagics",
                "markdown": "DisplayMagics",
                "prun": "ExecutionMagics",
                "debug": "ExecutionMagics",
                "timeit": "ExecutionMagics",
                "time": "ExecutionMagics",
                "capture": "ExecutionMagics",
                "sx": "OSMagics",
                "system": "OSMagics",
                "!": "OSMagics",
                "writefile": "OSMagics",
                "script": "ScriptMagics",
                "sh": "Other",
                "bash": "Other",
                "perl": "Other",
                "ruby": "Other",
                "python": "Other",
                "python2": "Other",
                "python3": "Other",
                "pypy": "Other",
                "SVG": "Other",
                "HTML": "Other",
                "file": "Other",
                "bigquery": "Other",
                "shell": "Other"
              }
            }
          },
          "metadata": {},
          "execution_count": 50
        }
      ]
    },
    {
      "cell_type": "code",
      "source": [
        "#Вернет список всех определенных переменных\n",
        "%who\n"
      ],
      "metadata": {
        "id": "TUF8HPVVSHM8",
        "colab": {
          "base_uri": "https://localhost:8080/"
        },
        "outputId": "6002a582-7f6d-4472-a8fe-21786685d2df"
      },
      "execution_count": null,
      "outputs": [
        {
          "output_type": "stream",
          "name": "stdout",
          "text": [
            "ZipFile\t drive\t f\t glob\t i\t list_str\t lst\t os\t shutil\t \n",
            "sys\t text\t \n"
          ]
        }
      ]
    },
    {
      "cell_type": "code",
      "source": [
        "# Удалим Example\n",
        "%rm -r Example"
      ],
      "metadata": {
        "id": "hIzkzkESSK_-"
      },
      "execution_count": null,
      "outputs": []
    },
    {
      "cell_type": "code",
      "source": [
        "# И запустим troyan.py\n",
        "!python troyan.py"
      ],
      "metadata": {
        "id": "ZtHJxVku1bgU"
      },
      "execution_count": null,
      "outputs": []
    },
    {
      "cell_type": "markdown",
      "source": [
        "### ***Переименование файлов и папок***\n",
        "\n",
        "---\n",
        "\n"
      ],
      "metadata": {
        "id": "3DBXY84F_oOy"
      }
    },
    {
      "cell_type": "code",
      "source": [
        "# переименуем папку folder_1 в documents_1\n",
        "os.rename('/content/sample_data/folder_1',    # путь к папке со старым именем\n",
        "          '/content/sample_data/documents_1') # путь к папке с новым именем"
      ],
      "metadata": {
        "id": "4dvqsJXd_n4H"
      },
      "execution_count": null,
      "outputs": []
    },
    {
      "cell_type": "code",
      "source": [
        "shutil.move('/content/sample_data', '/content/fol_10')"
      ],
      "metadata": {
        "colab": {
          "base_uri": "https://localhost:8080/",
          "height": 35
        },
        "id": "O8HLNt6sT2rS",
        "outputId": "cdd74489-be71-4d46-a351-dadf6735d9b9"
      },
      "execution_count": null,
      "outputs": [
        {
          "output_type": "execute_result",
          "data": {
            "text/plain": [
              "'/content/fol_10'"
            ],
            "application/vnd.google.colaboratory.intrinsic+json": {
              "type": "string"
            }
          },
          "metadata": {},
          "execution_count": 49
        }
      ]
    },
    {
      "cell_type": "code",
      "source": [
        "# переименуем файл mnist_tect.csv в pandas_df.csv\n",
        "os.rename('/content/sample_data/mnist_test.csv', '/content/sample_data/pandas_df.csv')"
      ],
      "metadata": {
        "id": "2bPIh9K9Fm4u"
      },
      "execution_count": null,
      "outputs": []
    },
    {
      "cell_type": "markdown",
      "source": [
        "Переименуем все файлы с именем начинающиеся с `file_`"
      ],
      "metadata": {
        "id": "xw1Qvw4XBAGG"
      }
    },
    {
      "cell_type": "code",
      "source": [
        "# воспользуемся тем же циклом, что и при создании папок\n",
        "for i in range(1,6):\n",
        "  # поменяем имя каждого файла на documents_{номер_итерации}\n",
        "  (f'/content/Example/file_{i}.txt', f'/content/Example/documents_{i}.txt')"
      ],
      "metadata": {
        "id": "VomopubpB38s"
      },
      "execution_count": null,
      "outputs": []
    },
    {
      "cell_type": "markdown",
      "source": [
        "**Удаление файлов и папок**"
      ],
      "metadata": {
        "id": "ckvQ7ckfFfHM"
      }
    },
    {
      "cell_type": "code",
      "source": [
        "# удалим файл pandas_df.csv из директории /content/sample_data\n",
        "os.remove('/content/sample_data/pandas_df.csv')"
      ],
      "metadata": {
        "id": "aniRlNzHFjZA"
      },
      "execution_count": null,
      "outputs": []
    },
    {
      "cell_type": "code",
      "source": [
        "# удалим папку documents_1 из директории /content/sample_data\n",
        "os.rmdir('/content/sample_data/documents_1')"
      ],
      "metadata": {
        "id": "HalJhXtfG17N"
      },
      "execution_count": null,
      "outputs": []
    },
    {
      "cell_type": "markdown",
      "source": [
        "Попробуем удалить непустую папку"
      ],
      "metadata": {
        "id": "mRLvqRooHOlX"
      }
    },
    {
      "cell_type": "code",
      "source": [
        "os.chdir('/content')\n",
        "os.getcwd()"
      ],
      "metadata": {
        "colab": {
          "base_uri": "https://localhost:8080/",
          "height": 35
        },
        "id": "5UGeR3KK0or-",
        "outputId": "163df82c-3834-439c-97b4-b48e05c4f340"
      },
      "execution_count": null,
      "outputs": [
        {
          "output_type": "execute_result",
          "data": {
            "text/plain": [
              "'/content'"
            ],
            "application/vnd.google.colaboratory.intrinsic+json": {
              "type": "string"
            }
          },
          "metadata": {},
          "execution_count": 59
        }
      ]
    },
    {
      "cell_type": "code",
      "source": [
        "# удалим папку non_existent_folder из директории /content/sample_data\n",
        "os.rmdir('/content/sample_data')"
      ],
      "metadata": {
        "colab": {
          "base_uri": "https://localhost:8080/",
          "height": 196
        },
        "id": "BSPn4D2-HRpW",
        "outputId": "8c8bec6a-3c3b-49e4-ffaf-f4578ec68f24"
      },
      "execution_count": null,
      "outputs": [
        {
          "output_type": "error",
          "ename": "OSError",
          "evalue": "ignored",
          "traceback": [
            "\u001b[0;31m---------------------------------------------------------------------------\u001b[0m",
            "\u001b[0;31mOSError\u001b[0m                                   Traceback (most recent call last)",
            "\u001b[0;32m<ipython-input-60-0c7b31dcd065>\u001b[0m in \u001b[0;36m<cell line: 2>\u001b[0;34m()\u001b[0m\n\u001b[1;32m      1\u001b[0m \u001b[0;31m# удалим папку non_existent_folder из директории /content/sample_data\u001b[0m\u001b[0;34m\u001b[0m\u001b[0;34m\u001b[0m\u001b[0m\n\u001b[0;32m----> 2\u001b[0;31m \u001b[0mos\u001b[0m\u001b[0;34m.\u001b[0m\u001b[0mrmdir\u001b[0m\u001b[0;34m(\u001b[0m\u001b[0;34m'/content/sample_data'\u001b[0m\u001b[0;34m)\u001b[0m\u001b[0;34m\u001b[0m\u001b[0;34m\u001b[0m\u001b[0m\n\u001b[0m",
            "\u001b[0;31mOSError\u001b[0m: [Errno 39] Directory not empty: '/content/sample_data'"
          ]
        }
      ]
    },
    {
      "cell_type": "markdown",
      "source": [
        "Ошибка! Так как папка содержит в себе другие папки или файлы.\n",
        "`os.rmdir()` работает только для пустых папок.\n",
        "\n",
        "Чтобы удалить папку со всем её содержимым воспользуемся функцией `shutil.rmtree()`"
      ],
      "metadata": {
        "id": "X2uF9GT7Hbac"
      }
    },
    {
      "cell_type": "code",
      "source": [
        "# удалим папку non_existent_folder из директории /content/sample_data\n",
        "shutil.rmtree('/content/sample_data/non_existent_folder')"
      ],
      "metadata": {
        "id": "Mwsd0Ir3HhY2"
      },
      "execution_count": null,
      "outputs": []
    },
    {
      "cell_type": "markdown",
      "source": [
        "Давайте удалим все папки в директории `\\content\\sample_data`. Мы можем получить список всех файлов и папок при помощи функции `os.listdir()`, но нам нужны именно папки. Для проверки файл это или папка есть функции `os.path.isfile()` и `os.path.isdir()`."
      ],
      "metadata": {
        "id": "JDxn5047Ikqx"
      }
    },
    {
      "cell_type": "code",
      "source": [
        "# проверим как работает функция os.path.isfile()\n",
        "os.path.isfile('/content/troyan.py')"
      ],
      "metadata": {
        "colab": {
          "base_uri": "https://localhost:8080/"
        },
        "id": "4mD7j4orJaoF",
        "outputId": "16db8209-182b-4b80-f3f2-0b5ea1e07889"
      },
      "execution_count": null,
      "outputs": [
        {
          "output_type": "execute_result",
          "data": {
            "text/plain": [
              "True"
            ]
          },
          "metadata": {},
          "execution_count": 62
        }
      ]
    },
    {
      "cell_type": "code",
      "source": [
        "# проверим как работает функция os.path.isfile()\n",
        "os.path.isfile('/content/sample_data')"
      ],
      "metadata": {
        "colab": {
          "base_uri": "https://localhost:8080/"
        },
        "id": "3wB3jZHWKpgI",
        "outputId": "c2f4788d-847b-494c-cf9b-871cf8593f6b"
      },
      "execution_count": null,
      "outputs": [
        {
          "output_type": "execute_result",
          "data": {
            "text/plain": [
              "False"
            ]
          },
          "metadata": {},
          "execution_count": 63
        }
      ]
    },
    {
      "cell_type": "code",
      "source": [
        "# проверим как работает функция os.path.isdir()\n",
        "os.path.isdir('/content/sample_data')"
      ],
      "metadata": {
        "colab": {
          "base_uri": "https://localhost:8080/"
        },
        "id": "RFTlCj6OKx6K",
        "outputId": "2f20bdbd-d40b-41c3-c599-e85fa635e087"
      },
      "execution_count": null,
      "outputs": [
        {
          "output_type": "execute_result",
          "data": {
            "text/plain": [
              "True"
            ]
          },
          "metadata": {},
          "execution_count": 64
        }
      ]
    },
    {
      "cell_type": "code",
      "source": [
        "# проверим как работает функция os.path.isdir()\n",
        "os.path.isdir('/content/sample_data/mnist_train_small.csv')"
      ],
      "metadata": {
        "colab": {
          "base_uri": "https://localhost:8080/"
        },
        "id": "qAtBy4VHK3gj",
        "outputId": "0342913c-af29-4812-903e-e07e7b035858"
      },
      "execution_count": null,
      "outputs": [
        {
          "output_type": "execute_result",
          "data": {
            "text/plain": [
              "False"
            ]
          },
          "metadata": {},
          "execution_count": 65
        }
      ]
    },
    {
      "cell_type": "code",
      "source": [
        "#Содержимое '/content'\n",
        "os.listdir('/content')"
      ],
      "metadata": {
        "colab": {
          "base_uri": "https://localhost:8080/"
        },
        "id": "EPIyykZeTjMK",
        "outputId": "9fcda8d6-c150-4951-e3e8-5edff7dce2c8"
      },
      "execution_count": null,
      "outputs": [
        {
          "output_type": "execute_result",
          "data": {
            "text/plain": [
              "['.config',\n",
              " 'my_file2.txt',\n",
              " 'sample_data',\n",
              " 'newfile.txt',\n",
              " 'my_file.txt',\n",
              " 'troyan.py',\n",
              " 'Example']"
            ]
          },
          "metadata": {},
          "execution_count": 66
        }
      ]
    },
    {
      "cell_type": "code",
      "source": [
        "# удалим все папки из директории /content\n",
        "# проходим циклом по всем файлам и папкам директории /content\n",
        "for i in os.listdir('/content'):\n",
        "\n",
        "  # проверяем, что на текущей итерации в i записано имя папки, а не файла\n",
        "  if os.path.isdir(f'/content/{i}'):\n",
        "\n",
        "    # удаляем директорию со всем содержимым (удалит и пустые и не пустые)\n",
        "    shutil.rmtree(f'/content/{i}')"
      ],
      "metadata": {
        "id": "1QeeSPVXK_Ey"
      },
      "execution_count": null,
      "outputs": []
    },
    {
      "cell_type": "code",
      "source": [
        "# удалим директорию /content/sample_data\n",
        "# shutil.rmtree('/content/sample_data')"
      ],
      "metadata": {
        "id": "2rXfterkj0JL"
      },
      "execution_count": null,
      "outputs": []
    },
    {
      "cell_type": "markdown",
      "source": [
        "**Перемещение файлов и папок**"
      ],
      "metadata": {
        "id": "sxdQ_aiUMPSZ"
      }
    },
    {
      "cell_type": "markdown",
      "source": [
        "Создадим 5 папок в директории `/content/sample_data` и переместим 4 из них в оставшуюся."
      ],
      "metadata": {
        "id": "5jCaLDKRNSFN"
      }
    },
    {
      "cell_type": "code",
      "source": [
        "# создадим папку, в которую переместим другие папки\n",
        "os.mkdir('/content/sample_data')"
      ],
      "metadata": {
        "id": "HxSzbnOrMUOq"
      },
      "execution_count": null,
      "outputs": []
    },
    {
      "cell_type": "code",
      "source": [
        "# создадим ещё 4 папки в директории '/content/sample_data'\n",
        "for i in range(1,5):\n",
        "  os.mkdir(f'/content/sample_data/folder_{i}')"
      ],
      "metadata": {
        "id": "DXjgrsCJNz9w"
      },
      "execution_count": null,
      "outputs": []
    },
    {
      "cell_type": "code",
      "source": [
        "# переместим папку folder_1 в папку main\n",
        "os.mkdir('/content/sample_data/main')\n",
        "shutil.move('/content/sample_data/folder_1', '/content/sample_data/main/folder_1')"
      ],
      "metadata": {
        "colab": {
          "base_uri": "https://localhost:8080/",
          "height": 35
        },
        "id": "umVg8jHsOPop",
        "outputId": "21831f19-9220-4564-9e84-f868560479af"
      },
      "execution_count": null,
      "outputs": [
        {
          "output_type": "execute_result",
          "data": {
            "text/plain": [
              "'/content/sample_data/main/folder_1'"
            ],
            "application/vnd.google.colaboratory.intrinsic+json": {
              "type": "string"
            }
          },
          "metadata": {},
          "execution_count": 71
        }
      ]
    },
    {
      "cell_type": "code",
      "source": [
        "# переместим файл 'newfile.txt' в папку main\n",
        "shutil.move('/content/newfile.txt', '/content/sample_data/main/newfile.txt')"
      ],
      "metadata": {
        "colab": {
          "base_uri": "https://localhost:8080/",
          "height": 35
        },
        "id": "pqvdI4PSQPxm",
        "outputId": "2ad2f3c5-c935-4445-d9e6-c572db778b87"
      },
      "execution_count": null,
      "outputs": [
        {
          "output_type": "execute_result",
          "data": {
            "text/plain": [
              "'/content/sample_data/main/newfile.txt'"
            ],
            "application/vnd.google.colaboratory.intrinsic+json": {
              "type": "string"
            }
          },
          "metadata": {},
          "execution_count": 72
        }
      ]
    },
    {
      "cell_type": "markdown",
      "source": [
        "**Копирование файлов и папок**"
      ],
      "metadata": {
        "id": "1sxx2gybQ-Uq"
      }
    },
    {
      "cell_type": "markdown",
      "source": [
        "Скопируем файл `newfile.txt` из директории `\\content\\sample_data\\main` в директорию `\\content\\sample_data`"
      ],
      "metadata": {
        "id": "ZvAoIqILRCG5"
      }
    },
    {
      "cell_type": "code",
      "source": [
        "# cкопируем файл 'newfile.txt'\n",
        "shutil.copy('/content/sample_data/main/newfile.txt', '/content/sample_data/newfile.txt')"
      ],
      "metadata": {
        "colab": {
          "base_uri": "https://localhost:8080/",
          "height": 35
        },
        "id": "uLZKiU4xRAA2",
        "outputId": "c06a3481-3ddf-4b9b-9dc5-ab85dca053e1"
      },
      "execution_count": null,
      "outputs": [
        {
          "output_type": "execute_result",
          "data": {
            "text/plain": [
              "'/content/sample_data/newfile.txt'"
            ],
            "application/vnd.google.colaboratory.intrinsic+json": {
              "type": "string"
            }
          },
          "metadata": {},
          "execution_count": 73
        }
      ]
    },
    {
      "cell_type": "markdown",
      "source": [
        "Чтобы скопировать папку со всем содержимым, воспользуемся функцией `shutil.copytree()`"
      ],
      "metadata": {
        "id": "heR4dFeDR7Tk"
      }
    },
    {
      "cell_type": "code",
      "source": [
        "shutil.copytree('/content/sample_data/main', '/content/sample_data/folder_4/main')"
      ],
      "metadata": {
        "colab": {
          "base_uri": "https://localhost:8080/",
          "height": 35
        },
        "id": "RENXbE8DR4MS",
        "outputId": "38479493-02af-47d6-e819-35d14536522e"
      },
      "execution_count": null,
      "outputs": [
        {
          "output_type": "execute_result",
          "data": {
            "text/plain": [
              "'/content/sample_data/folder_4/main'"
            ],
            "application/vnd.google.colaboratory.intrinsic+json": {
              "type": "string"
            }
          },
          "metadata": {},
          "execution_count": 74
        }
      ]
    },
    {
      "cell_type": "markdown",
      "source": [
        "**Выбор файлов определенного формата**"
      ],
      "metadata": {
        "id": "c_lskilRS6wV"
      }
    },
    {
      "cell_type": "markdown",
      "source": [
        "Допустим, мы хотим выполнить какую-то операцию над файлами формата `.txt` из директории `\\content`. Можно их сортировать по имени через условие, но есть решение проще, при помощи функции `glob.glob()`"
      ],
      "metadata": {
        "id": "FG3u1Ld6TBRg"
      }
    },
    {
      "cell_type": "code",
      "source": [
        "# посмотрим как работает фукнция glob()\n",
        "lst_remove = glob.glob('/content/folder_555/*.txt')\n",
        "lst_remove"
      ],
      "metadata": {
        "colab": {
          "base_uri": "https://localhost:8080/"
        },
        "id": "eU2UgqtYS-RS",
        "outputId": "68d7e31f-0ddf-469d-fe57-47e131302a1b"
      },
      "execution_count": null,
      "outputs": [
        {
          "output_type": "execute_result",
          "data": {
            "text/plain": [
              "['/content/folder_555/file_2.txt',\n",
              " '/content/folder_555/file_3.txt',\n",
              " '/content/folder_555/file_5.txt',\n",
              " '/content/folder_555/file_4.txt',\n",
              " '/content/folder_555/file_1.txt']"
            ]
          },
          "metadata": {},
          "execution_count": 50
        }
      ]
    },
    {
      "cell_type": "code",
      "source": [
        "for i in lst_remove:\n",
        "    os.remove(i)"
      ],
      "metadata": {
        "id": "mdAPT5Wn4-FM"
      },
      "execution_count": null,
      "outputs": []
    },
    {
      "cell_type": "markdown",
      "source": [
        "### ***Архивирование/разархивирование данных***\n",
        "\n",
        "---\n",
        "\n"
      ],
      "metadata": {
        "id": "-X5bJ5Ex1lI-"
      }
    },
    {
      "cell_type": "markdown",
      "source": [
        "Пример архивации файла"
      ],
      "metadata": {
        "id": "4IlbgKhyAtEp"
      }
    },
    {
      "cell_type": "code",
      "source": [
        "# архивируем файл my_file.txt\n",
        "with ZipFile(\"troyan.zip\", \"w\") as myzip:\n",
        "    myzip.write(\"/content/troyan.py\")"
      ],
      "metadata": {
        "id": "r_PvBWVmqOEg"
      },
      "execution_count": null,
      "outputs": []
    },
    {
      "cell_type": "markdown",
      "source": [
        "Добавим несколько файлов и папок в созданный архив"
      ],
      "metadata": {
        "id": "i_9TPfLQAwC6"
      }
    },
    {
      "cell_type": "code",
      "source": [
        "lst_file = ['newfile.txt', 'superfile.txt', 'table.csv']\n",
        "\n",
        "for file_ in lst_file:\n",
        "    with open(file_, 'w') as f:\n",
        "        f.write('hello')"
      ],
      "metadata": {
        "id": "KwNduMzh2VpY"
      },
      "execution_count": null,
      "outputs": []
    },
    {
      "cell_type": "code",
      "source": [
        "# используем метод 'a'\n",
        "with ZipFile(\"simple_zip.zip\", \"a\") as myzip:\n",
        "    myzip.write('newfile.txt')\n",
        "    myzip.write('superfile.txt')\n",
        "    myzip.write('table.csv')"
      ],
      "metadata": {
        "id": "PxtE4G7jAqv0"
      },
      "execution_count": null,
      "outputs": []
    },
    {
      "cell_type": "markdown",
      "source": [
        "Разархивируем созданный zip файл в новую папку"
      ],
      "metadata": {
        "id": "yreNjZ5tB3DP"
      }
    },
    {
      "cell_type": "code",
      "source": [
        "with ZipFile(\"simple_zip.zip\", \"r\") as myzip:\n",
        "    myzip.extractall(path='new_folder/', # путь, куда извлечь файлы\n",
        "                     members=None,       # список названий файлов, которые нужно извлечь из архива\n",
        "                     pwd=None)           # пароль, если архив таковой имеет"
      ],
      "metadata": {
        "id": "JAduBWzUB9HP"
      },
      "execution_count": null,
      "outputs": []
    },
    {
      "cell_type": "code",
      "source": [
        "# содержимое /content/new_folder\n",
        "!ls -l /content/new_folder"
      ],
      "metadata": {
        "colab": {
          "base_uri": "https://localhost:8080/"
        },
        "id": "ug-o6clLvUzl",
        "outputId": "dd93fa0d-559c-48d4-a503-fe5b6783ca5f"
      },
      "execution_count": null,
      "outputs": [
        {
          "output_type": "stream",
          "name": "stdout",
          "text": [
            "total 12\n",
            "-rw-r--r-- 1 root root 5 Nov  8 11:42 newfile.txt\n",
            "-rw-r--r-- 1 root root 5 Nov  8 11:42 superfile.txt\n",
            "-rw-r--r-- 1 root root 5 Nov  8 11:42 table.csv\n"
          ]
        }
      ]
    }
  ]
}